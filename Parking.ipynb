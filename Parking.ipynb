{
 "cells": [
  {
   "cell_type": "code",
   "execution_count": 1,
   "id": "9b9ff7c5",
   "metadata": {},
   "outputs": [
    {
     "name": "stderr",
     "output_type": "stream",
     "text": [
      "/Users/lushenyi/opt/anaconda3/lib/python3.8/site-packages/IPython/core/interactiveshell.py:3165: DtypeWarning: Columns (20,31,32) have mixed types.Specify dtype option on import or set low_memory=False.\n",
      "  has_raised = await self.run_ast_nodes(code_ast.body, cell_name,\n"
     ]
    }
   ],
   "source": [
    "import pandas as pd\n",
    "import numpy as np\n",
    "df = pd.read_csv(\"311_Service_Requests_2020.csv\")"
   ]
  },
  {
   "cell_type": "code",
   "execution_count": 2,
   "id": "515eda06",
   "metadata": {},
   "outputs": [
    {
     "data": {
      "text/plain": [
       "2587316"
      ]
     },
     "execution_count": 2,
     "metadata": {},
     "output_type": "execute_result"
    }
   ],
   "source": [
    "total_incidents_general = df[\"Complaint Type\"].count()  #(ps:Excel的最大行数是1048576,所以看excel筛选出的结果数量可能不正确)\n",
    "total_incidents_general"
   ]
  },
  {
   "cell_type": "code",
   "execution_count": 3,
   "id": "479f5e2a",
   "metadata": {},
   "outputs": [
    {
     "data": {
      "text/plain": [
       "193721"
      ]
     },
     "execution_count": 3,
     "metadata": {},
     "output_type": "execute_result"
    }
   ],
   "source": [
    "parking_general = df[df[\"Complaint Type\"] == \"Illegal Parking\"][\"Complaint Type\"].count()\n",
    "parking_general  "
   ]
  },
  {
   "cell_type": "code",
   "execution_count": 4,
   "id": "a6f6b631",
   "metadata": {},
   "outputs": [
    {
     "data": {
      "text/plain": [
       "0.07487334365033108"
      ]
     },
     "execution_count": 4,
     "metadata": {},
     "output_type": "execute_result"
    }
   ],
   "source": [
    "proportion_general = parking_general / total_incidents_general\n",
    "proportion_general"
   ]
  },
  {
   "cell_type": "code",
   "execution_count": 5,
   "id": "6fb0624a",
   "metadata": {},
   "outputs": [],
   "source": [
    "df_10027 = df[df[\"Incident Zip\"] == 10027.0]"
   ]
  },
  {
   "cell_type": "code",
   "execution_count": 6,
   "id": "1b6aa2ff",
   "metadata": {},
   "outputs": [
    {
     "data": {
      "text/plain": [
       "21470"
      ]
     },
     "execution_count": 6,
     "metadata": {},
     "output_type": "execute_result"
    }
   ],
   "source": [
    "total_incidents_10027 = df_10027[\"Complaint Type\"].count()\n",
    "total_incidents_10027"
   ]
  },
  {
   "cell_type": "code",
   "execution_count": 7,
   "id": "e3fbfac4",
   "metadata": {},
   "outputs": [
    {
     "data": {
      "text/plain": [
       "1118"
      ]
     },
     "execution_count": 7,
     "metadata": {},
     "output_type": "execute_result"
    }
   ],
   "source": [
    "parking_10027 = df_10027[df_10027[\"Complaint Type\"] == \"Illegal Parking\"][\"Complaint Type\"].count()\n",
    "parking_10027"
   ]
  },
  {
   "cell_type": "code",
   "execution_count": 8,
   "id": "3494bd19",
   "metadata": {},
   "outputs": [
    {
     "data": {
      "text/plain": [
       "0.05207265952491849"
      ]
     },
     "execution_count": 8,
     "metadata": {},
     "output_type": "execute_result"
    }
   ],
   "source": [
    "proportion_10027 = parking_10027 / total_incidents_10027\n",
    "proportion_10027"
   ]
  },
  {
   "cell_type": "code",
   "execution_count": 10,
   "id": "8e5e54a0",
   "metadata": {},
   "outputs": [
    {
     "data": {
      "text/plain": [
       "False"
      ]
     },
     "execution_count": 10,
     "metadata": {},
     "output_type": "execute_result"
    }
   ],
   "source": [
    "higher_parking_proportion = proportion_10027 > proportion_general\n",
    "#higher_parking_proportion"
   ]
  },
  {
   "cell_type": "code",
   "execution_count": null,
   "id": "ad1de0fd",
   "metadata": {},
   "outputs": [],
   "source": []
  }
 ],
 "metadata": {
  "kernelspec": {
   "display_name": "Python 3",
   "language": "python",
   "name": "python3"
  },
  "language_info": {
   "codemirror_mode": {
    "name": "ipython",
    "version": 3
   },
   "file_extension": ".py",
   "mimetype": "text/x-python",
   "name": "python",
   "nbconvert_exporter": "python",
   "pygments_lexer": "ipython3",
   "version": "3.8.8"
  }
 },
 "nbformat": 4,
 "nbformat_minor": 5
}
